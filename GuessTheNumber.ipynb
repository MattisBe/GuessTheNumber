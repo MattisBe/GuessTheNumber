{
  "cells": [
    {
      "cell_type": "code",
      "execution_count": 87,
      "metadata": {
        "id": "LDJ5WTTvCd2b"
      },
      "outputs": [],
      "source": [
        "#Bonjour, aujourd'hui je me lance dans la programmation d'un jeu simple afin d'appliquer ce que j'ai appris en cours. Ce jeu consistera simplement à deviner un nombre tiré au hasard.\n",
        "\n",
        "import random as rd\n",
        "import matplotlib.pyplot as plt\n",
        "import math\n",
        "import seaborn as sns"
      ]
    },
    {
      "cell_type": "code",
      "execution_count": 88,
      "metadata": {
        "colab": {
          "base_uri": "https://localhost:8080/"
        },
        "id": "nlc3cb2DDD4c",
        "outputId": "5c49c611-2e05-4e97-98c4-bb90c2db3302"
      },
      "outputs": [
        {
          "output_type": "stream",
          "name": "stdout",
          "text": [
            "Bienvenue sur le jeu GuessTheNumber, souhaitez-vous faire une partie ? Répondre par 'OUI' ou 'NON'. OUI\n",
            "Choisir le mode facile (F) avec 10 essais ou difficile avec 5 essais (D) F\n",
            "Vous avez choisi le mode facile\n"
          ]
        }
      ],
      "source": [
        "#initialisation des variables nécessaires\n",
        "guess = 0\n",
        "jouer = input(\"Bienvenue sur le jeu GuessTheNumber, souhaitez-vous faire une partie ? Répondre par 'OUI' ou 'NON'. \")\n",
        "\n",
        "#création des modes de jeu\n",
        "mode = input(\"Choisir le mode facile (F) avec 10 essais ou difficile avec 5 essais (D) \")\n",
        "tentatives = 0\n",
        "essais = 0\n",
        "lose = 0\n",
        "win = 0\n",
        "suggestion_aide = 0\n",
        "graph_wl = []\n",
        "\n",
        "if mode == \"F\":\n",
        "  print(\"Vous avez choisi le mode facile\")\n",
        "  essais = 10\n",
        "elif mode == \"D\":\n",
        "  print(\"Vous avez choisi le mode difficile\")\n",
        "  essais = 5\n",
        "\n"
      ]
    },
    {
      "cell_type": "code",
      "execution_count": 89,
      "metadata": {
        "colab": {
          "base_uri": "https://localhost:8080/",
          "height": 1000
        },
        "id": "8svVkKWWGPzR",
        "outputId": "b59cea0a-2d09-42fd-b215-52176661e5cb"
      },
      "outputs": [
        {
          "output_type": "stream",
          "name": "stdout",
          "text": [
            "47\n",
            "Essayez de deviner le nombre : 47\n",
            "Bravo !\n",
            "Voici l'évolution de vos tentatives, cela représente l'écart entre le nombre entré par l'utilisateur et le nombre à deviner :  [0]\n",
            "Souhaitez-vous rejouer ? Répondre par 'OUI' ou 'NON'.OUI\n",
            "72\n",
            "Essayez de deviner le nombre : 72\n",
            "Bravo !\n",
            "Voici l'évolution de vos tentatives, cela représente l'écart entre le nombre entré par l'utilisateur et le nombre à deviner :  [0]\n",
            "Souhaitez-vous rejouer ? Répondre par 'OUI' ou 'NON'.OUI\n",
            "56\n",
            "Essayez de deviner le nombre : 56\n",
            "Bravo !\n",
            "Voici l'évolution de vos tentatives, cela représente l'écart entre le nombre entré par l'utilisateur et le nombre à deviner :  [0]\n",
            "Souhaitez-vous rejouer ? Répondre par 'OUI' ou 'NON'.OUI\n",
            "11\n",
            "Essayez de deviner le nombre : 11\n",
            "Bravo !\n",
            "Voici l'évolution de vos tentatives, cela représente l'écart entre le nombre entré par l'utilisateur et le nombre à deviner :  [0]\n",
            "Souhaitez-vous rejouer ? Répondre par 'OUI' ou 'NON'.OUI\n",
            "2\n",
            "Essayez de deviner le nombre : 2\n",
            "Bravo !\n",
            "Voici l'évolution de vos tentatives, cela représente l'écart entre le nombre entré par l'utilisateur et le nombre à deviner :  [0]\n",
            "Souhaitez-vous rejouer ? Répondre par 'OUI' ou 'NON'.OUI\n",
            "91\n",
            "Essayez de deviner le nombre : 2\n",
            "Voici une suggestion pour vous aider : 46\n",
            "C'est plus !\n",
            "Essayez de deviner le nombre : 2\n",
            "Voici une suggestion pour vous aider : 46\n",
            "C'est plus !\n",
            "Essayez de deviner le nombre : 2\n",
            "Voici une suggestion pour vous aider : 46\n",
            "C'est plus !\n",
            "Essayez de deviner le nombre : 2\n",
            "Voici une suggestion pour vous aider : 46\n",
            "C'est plus !\n",
            "Essayez de deviner le nombre : 2\n",
            "Voici une suggestion pour vous aider : 46\n",
            "C'est plus !\n",
            "Essayez de deviner le nombre : 2\n",
            "Voici une suggestion pour vous aider : 46\n",
            "C'est plus !\n",
            "Essayez de deviner le nombre : 2\n",
            "Voici une suggestion pour vous aider : 46\n",
            "C'est plus !\n",
            "Essayez de deviner le nombre : 2\n",
            "Voici une suggestion pour vous aider : 46\n",
            "C'est plus !\n",
            "Essayez de deviner le nombre : 2\n",
            "Voici une suggestion pour vous aider : 46\n",
            "C'est plus !\n",
            "Essayez de deviner le nombre : 2\n",
            "Voici une suggestion pour vous aider : 46\n",
            "C'est plus !\n",
            "Perdu !\n",
            "À la première tentative, l'écart était de -89 ! \n",
            " À la deuxième tentative, l'écart était de -89 ! \n",
            " À la troisième tentative, l'écart était de -89 !\n",
            "Souhaitez-vous rejouer ? Répondre par 'OUI' ou 'NON'.NON\n",
            "Vous avez gagné 5 partie(s) et perdu 1 partie(s), à bientôt !\n"
          ]
        },
        {
          "output_type": "display_data",
          "data": {
            "text/plain": [
              "<Figure size 720x504 with 1 Axes>"
            ],
            "image/png": "[encoded data removed]"
          },
          "metadata": {
            "needs_background": "light"
          }
        }
      ],
      "source": [
        "while jouer == \"OUI\":\n",
        "  #tirage aléatoire\n",
        "  tentatives = 0\n",
        "  number = rd.randrange(0, 101)\n",
        "  print(number)\n",
        "  difference = []\n",
        "  while guess != number and tentatives < essais:\n",
        "    guess = int(input(\"Essayez de deviner le nombre : \"))\n",
        "    tentatives += 1\n",
        "    difference.append(guess - number)\n",
        "\n",
        "    #création d'une structure conditionnelle qui permet de proposer une suggestion au joueur lorsqu'il choisit le mode facile\n",
        "    if mode == \"F\":\n",
        "      if not(suggestion_aide == number - 1 or suggestion_aide == number + 1):\n",
        "        if guess < number:\n",
        "          suggestion_aide = int(guess + ((number - guess) / 2))\n",
        "          print(\"Voici une suggestion pour vous aider : %d\" % suggestion_aide)\n",
        "        elif guess > number:\n",
        "          suggestion_aide = int(number + ((guess - number)/2))\n",
        "          print(\"Voici une suggestion pour vous aider : %d\" % suggestion_aide)\n",
        "      else:\n",
        "        print(\"Vous êtes très proche. Continuez !\")\n",
        "    \n",
        "    \n",
        "\n",
        "    #création des indications au joueur selon la valeur de la variable \"guess\"\n",
        "    if guess >= 0 and guess <= 100:\n",
        "      if guess > number:\n",
        "        print(\"C'est moins !\")\n",
        "      if guess < number:\n",
        "        print(\"C'est plus !\")\n",
        "    else:\n",
        "      print(\"Tu es hors de l'intervalle !\")\n",
        "\n",
        "  else:\n",
        "    if guess == number:\n",
        "      print(\"Bravo !\")\n",
        "      win += 1\n",
        "      print(\"Voici l'évolution de vos tentatives, cela représente l'écart entre le nombre entré par l'utilisateur et le nombre à deviner : \", difference)\n",
        "      jouer = input(\"Souhaitez-vous rejouer ? Répondre par 'OUI' ou 'NON'.\")\n",
        "      graph_wl.append(win)\n",
        "    if tentatives == essais:\n",
        "      print(\"Perdu !\")\n",
        "      lose += 1\n",
        "      print(\"À la première tentative, l'écart était de %d !\" % difference[0],\"\\n\", \"À la deuxième tentative, l'écart était de %d !\" % difference[1],\"\\n\", \"À la troisième tentative, l'écart était de %d !\" % difference[2])\n",
        "      jouer = input(\"Souhaitez-vous rejouer ? Répondre par 'OUI' ou 'NON'.\")\n",
        "\n",
        "else:\n",
        "  print(\"Vous avez gagné %d partie(s)\"% win, \"et perdu %d partie(s), à bientôt !\"% lose)\n",
        "  labels = [\"Number of win\", \"Number of lose\"]\n",
        "\n",
        "  plt.figure(figsize=(10, 7))\n",
        "  plt.title(\"Répartition du nombre de victoire(s) et défaite(s)\")\n",
        "  plt.bar([\"win\", \"lose\"], [win, lose], color = [\"seagreen\", \"darkred\"], edgecolor='black')\n",
        "  plt.xlabel(\"Statut des parties\")\n",
        "  plt.ylabel(\"Nombre de statut\")\n",
        "  plt.show()\n",
        "  "
      ]
    }
  ],
  "metadata": {
    "colab": {
      "provenance": []
    },
    "kernelspec": {
      "display_name": "Python 3",
      "name": "python3"
    },
    "language_info": {
      "name": "python"
    }
  },
  "nbformat": 4,
  "nbformat_minor": 0
}